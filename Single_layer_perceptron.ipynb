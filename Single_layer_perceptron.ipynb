{
 "cells": [
  {
   "cell_type": "code",
   "execution_count": 1,
   "metadata": {},
   "outputs": [
    {
     "name": "stdout",
     "output_type": "stream",
     "text": [
      "NOT(0) = 1\n",
      "NOT(1) = 0\n"
     ]
    }
   ],
   "source": [
    "import numpy as np\n",
    "\n",
    "def unit_step(v):\n",
    "\n",
    "    if v >= 0:\n",
    "        return 1\n",
    "    else:\n",
    "        return 0\n",
    "\n",
    "def perceptron(x, w, b):\n",
    "    v = np.dot(w, x) + b\n",
    "    y = unit_step(v)\n",
    "    return y\n",
    "\n",
    "def NOT_percep(x):\n",
    "    return perceptron(x, w=-1, b=0.5)\n",
    "\n",
    "print(\"NOT(0) = {}\".format(NOT_percep(0)))\n",
    "print(\"NOT(1) = {}\".format(NOT_percep(1)))"
   ]
  },
  {
   "cell_type": "code",
   "execution_count": 2,
   "metadata": {},
   "outputs": [
    {
     "name": "stdout",
     "output_type": "stream",
     "text": [
      "AND(1, 1) = 1\n",
      "AND(1, 0) = 0\n",
      "AND(0, 1) = 0\n",
      "AND(0, 0) = 0\n"
     ]
    }
   ],
   "source": [
    "def AND_percep(x):\n",
    "    w = np.array([1, 1])\n",
    "    b = -1.5\n",
    "    return perceptron(x, w, b)\n",
    "\n",
    "example1 = np.array([1, 1])\n",
    "example2 = np.array([1, 0])\n",
    "example3 = np.array([0, 1])\n",
    "example4 = np.array([0, 0])\n",
    "\n",
    "print(\"AND({}, {}) = {}\".format(1, 1, AND_percep(example1)))\n",
    "print(\"AND({}, {}) = {}\".format(1, 0, AND_percep(example2)))\n",
    "print(\"AND({}, {}) = {}\".format(0, 1, AND_percep(example3)))\n",
    "print(\"AND({}, {}) = {}\".format(0, 0, AND_percep(example4)))"
   ]
  },
  {
   "cell_type": "code",
   "execution_count": 5,
   "metadata": {},
   "outputs": [
    {
     "name": "stdout",
     "output_type": "stream",
     "text": [
      "OR(1, 1) = 1\n",
      "OR(1, 0) = 1\n",
      "OR(0, 1) = 1\n",
      "OR(0, 0) = 0\n"
     ]
    }
   ],
   "source": [
    "def OR_percep(x):\n",
    "    w = np.array([1, 1])\n",
    "    b = -0.5\n",
    "    return perceptron(x, w, b)\n",
    "\n",
    "# Test\n",
    "example1 = np.array([1, 1])\n",
    "example2 = np.array([1, 0])\n",
    "example3 = np.array([0, 1])\n",
    "example4 = np.array([0, 0])\n",
    "\n",
    "print(\"OR({}, {}) = {}\".format(1, 1, OR_percep(example1)))\n",
    "print(\"OR({}, {}) = {}\".format(1, 0, OR_percep(example2)))\n",
    "print(\"OR({}, {}) = {}\".format(0, 1, OR_percep(example3)))\n",
    "print(\"OR({}, {}) = {}\".format(0, 0, OR_percep(example4)))"
   ]
  },
  {
   "cell_type": "code",
   "execution_count": 6,
   "metadata": {},
   "outputs": [
    {
     "name": "stdout",
     "output_type": "stream",
     "text": [
      "XOR(1, 1) = 0\n",
      "XOR(1, 0) = 1\n",
      "XOR(0, 1) = 1\n",
      "XOR(0, 0) = 0\n"
     ]
    }
   ],
   "source": [
    "def XOR_net(x):\n",
    "    gate_1 = AND_percep(x)\n",
    "    gate_2 = NOT_percep(gate_1)\n",
    "    gate_3 = OR_percep(x)\n",
    "    new_x = np.array([gate_2, gate_3])\n",
    "    output = AND_percep(new_x)\n",
    "    return output\n",
    "\n",
    "print(\"XOR({}, {}) = {}\".format(1, 1, XOR_net(example1)))\n",
    "print(\"XOR({}, {}) = {}\".format(1, 0, XOR_net(example2)))\n",
    "print(\"XOR({}, {}) = {}\".format(0, 1, XOR_net(example3)))\n",
    "print(\"XOR({}, {}) = {}\".format(0, 0, XOR_net(example4)))"
   ]
  },
  {
   "cell_type": "code",
   "execution_count": null,
   "metadata": {},
   "outputs": [],
   "source": []
  }
 ],
 "metadata": {
  "kernelspec": {
   "display_name": "Python 3",
   "language": "python",
   "name": "python3"
  },
  "language_info": {
   "codemirror_mode": {
    "name": "ipython",
    "version": 3
   },
   "file_extension": ".py",
   "mimetype": "text/x-python",
   "name": "python",
   "nbconvert_exporter": "python",
   "pygments_lexer": "ipython3",
   "version": "3.8.3"
  }
 },
 "nbformat": 4,
 "nbformat_minor": 4
}
