{
  "nbformat": 4,
  "nbformat_minor": 0,
  "metadata": {
    "kernelspec": {
      "display_name": "Python 3",
      "language": "python",
      "name": "python3"
    },
    "language_info": {
      "codemirror_mode": {
        "name": "ipython",
        "version": 3
      },
      "file_extension": ".py",
      "mimetype": "text/x-python",
      "name": "python",
      "nbconvert_exporter": "python",
      "pygments_lexer": "ipython3",
      "version": "3.8.8"
    },
    "colab": {
      "name": "Genetic Algorithm.ipynb",
      "provenance": [],
      "include_colab_link": true
    }
  },
  "cells": [
    {
      "cell_type": "markdown",
      "metadata": {
        "id": "view-in-github",
        "colab_type": "text"
      },
      "source": [
        "<a href=\"https://colab.research.google.com/github/mihirkumar28/SCOA/blob/main/Genetic_Algorithm.ipynb\" target=\"_parent\"><img src=\"https://colab.research.google.com/assets/colab-badge.svg\" alt=\"Open In Colab\"/></a>"
      ]
    },
    {
      "cell_type": "code",
      "metadata": {
        "id": "RObQ3ZIGxIlY"
      },
      "source": [
        "import numpy as np\n",
        "import random\n",
        "import matplotlib.pyplot as plt"
      ],
      "execution_count": 1,
      "outputs": []
    },
    {
      "cell_type": "code",
      "metadata": {
        "id": "EGo-eutzxIli"
      },
      "source": [
        "class Chromosome:\n",
        "    def __init__(self, genes):\n",
        "        self.genes = genes\n",
        "        self.fitness = 0\n",
        "        self.calculate_fitness()\n",
        "    \n",
        "    def calculate_fitness(self):\n",
        "        self.fitness = 0\n",
        "        for i,gene in enumerate(self.genes):\n",
        "            self.fitness += (i+1)*(gene**2)"
      ],
      "execution_count": 2,
      "outputs": []
    },
    {
      "cell_type": "code",
      "metadata": {
        "id": "Oe0T6BMpxIlj"
      },
      "source": [
        "class GeneticAlgorithm:\n",
        "    def __init__(self):\n",
        "        self.n_chromosomes = 0\n",
        "        self.n_genes = 0\n",
        "        self.population = []\n",
        "        self.max_fitness = 0\n",
        "        self.fitness_graph = []\n",
        "        self.generate_population()\n",
        "        self.calculate_max_fitness()\n",
        "        \n",
        "    def generate_population(self):\n",
        "        self.n_chromosomes = int(input(\"Enter number of chromosomes: \"))\n",
        "        self.n_genes = int(input(\"Enter number of genes: \"))\n",
        "        print(f\"Chromosomes: {self.n_chromosomes}\\nGenes: {self.n_genes}\")\n",
        "        self.population = []\n",
        "        for i in range(self.n_chromosomes): \n",
        "            genes = np.random.standard_normal(size=self.n_genes).tolist()\n",
        "            self.population.append(Chromosome(genes))\n",
        "    \n",
        "    def calculate_max_fitness(self):\n",
        "        self.max_fitness = 0\n",
        "        for i in range(self.n_genes):\n",
        "            self.max_fitness += (i+1)*100\n",
        "        \n",
        "    def selection(self):\n",
        "        population_size = (self.n_chromosomes*2)//2\n",
        "        selected_population = []\n",
        "        while len(selected_population) != self.n_chromosomes:\n",
        "            # Creating tournament\n",
        "            tournament_size = population_size//2 if population_size//10 < 5 else size//10\n",
        "            tournament_population = random.sample(self.population, tournament_size)\n",
        "            # Appending winner in selected population to generate offsprings\n",
        "            winner = max(tournament_population, key = lambda chromosome : chromosome.fitness)\n",
        "            selected_population.append(winner)\n",
        "        return selected_population\n",
        "\n",
        "    def cross_over(self, selected_population):\n",
        "        offsprings = []\n",
        "        while len(offsprings) != self.n_chromosomes:\n",
        "            # Randomly generating crossover point\n",
        "            crossover_point = random.randint(0,self.n_genes-2)\n",
        "            # Randomly selecting two parents\n",
        "            parent_a, parent_b = random.sample(selected_population, 2)\n",
        "            # Generating offsprings by swapping genes\n",
        "            parent_a.genes[crossover_point:self.n_genes], parent_b.genes[crossover_point:self.n_genes] = parent_b.genes[crossover_point:self.n_genes], parent_a.genes[crossover_point:self.n_genes]\n",
        "            offsprings += [parent_a, parent_b]\n",
        "        return offsprings\n",
        "            \n",
        "    def mutation(self, offsprings):\n",
        "        mutation_range = random.randint(1,len(offsprings)//3)\n",
        "        random_offsprings = random.sample(range(0, len(offsprings)-1), mutation_range)\n",
        "        for i in random_offsprings:\n",
        "            index = random.randint(0,self.n_genes-1)\n",
        "            offsprings[i].genes[index] = random.uniform(0, 10)\n",
        "        return offsprings\n",
        "        \n",
        "    def replacement(self, offsprings):\n",
        "        self.population = offsprings\n",
        "        for i in range(self.n_chromosomes):\n",
        "            self.population[i].calculate_fitness()\n",
        "    \n",
        "    def check_termination(self, i):\n",
        "        best_chromosome = max(self.population, key = lambda chromosome : chromosome.fitness)\n",
        "        print(f\"\\nBest chromosome after iteration {i}: {best_chromosome.genes} \\nFitness: {best_chromosome.fitness}\")\n",
        "        self.fitness_graph.append(best_chromosome.fitness)\n",
        "        if best_chromosome.fitness >= self.max_fitness:\n",
        "            print(\"Termination criteria reached\")\n",
        "            return True\n",
        "        return False\n",
        "    \n",
        "    def plot_graph(self):\n",
        "        plt.plot(self.fitness_graph)\n",
        "        plt.ylim(0, self.max_fitness)\n",
        "        plt.xlabel(\"Number of Iterations\")\n",
        "        plt.ylabel(\"Best Chromosome fitness\")"
      ],
      "execution_count": 3,
      "outputs": []
    },
    {
      "cell_type": "code",
      "metadata": {
        "colab": {
          "base_uri": "https://localhost:8080/",
          "height": 889
        },
        "id": "KNGCZ12gxIll",
        "outputId": "d620b842-6830-4e13-9866-6a42f58c9928"
      },
      "source": [
        "genetic_algorithm = GeneticAlgorithm()\n",
        "for i in range(100):\n",
        "  selected_population = genetic_algorithm.selection()\n",
        "  offsprings = genetic_algorithm.cross_over(selected_population)\n",
        "  offsprings = genetic_algorithm.mutation(offsprings)\n",
        "  genetic_algorithm.replacement(offsprings)\n",
        "  if genetic_algorithm.check_termination(i+1):\n",
        "    break\n",
        "genetic_algorithm.plot_graph()"
      ],
      "execution_count": 4,
      "outputs": [
        {
          "output_type": "stream",
          "text": [
            "Enter number of chromosomes: 10\n",
            "Enter number of genes: 10\n",
            "Chromosomes: 10\n",
            "Genes: 10\n",
            "\n",
            "Best chromosome after iteration 1: [-0.14848826160159037, 0.1605586277159571, -0.645162369936046, 0.4204411588440447, -1.5629264825410702, 3.66661824999313, 9.797477146930264, -0.3011014622703609, -0.46106702337517, -0.09489146403024037] \n",
            "Fitness: 769.5701206657342\n",
            "\n",
            "Best chromosome after iteration 2: [-0.14848826160159037, 0.1605586277159571, 0.9300008180083541, 0.4204411588440447, -1.5629264825410702, 0.0962381952950997, 6.165385298814087, -0.3011014622703609, -0.46106702337517, -0.09489146403024037] \n",
            "Fitness: 284.45707824126885\n",
            "\n",
            "Best chromosome after iteration 3: [-0.14848826160159037, 0.1605586277159571, 9.121113576228252, 0.4204411588440447, -1.5629264825410702, 0.0962381952950997, 6.165385298814087, -0.3011014622703609, -0.46106702337517, -0.09489146403024037] \n",
            "Fitness: 531.4465122881462\n",
            "\n",
            "Best chromosome after iteration 4: [-0.14848826160159037, 0.1605586277159571, 9.121113576228252, 1.7395189794353993, -1.5629264825410702, 6.9992054390354985, 6.165385298814087, -0.3011014622703609, -0.46106702337517, -0.09489146403024037] \n",
            "Fitness: 836.7208242607524\n",
            "\n",
            "Best chromosome after iteration 5: [-0.14848826160159037, 0.1605586277159571, 4.000886824204821, 1.7395189794353993, -1.5629264825410702, 6.9992054390354985, 6.165385298814087, -0.3011014622703609, -0.46106702337517, 0.40055096223208464] \n",
            "Fitness: 636.672338623666\n",
            "\n",
            "Best chromosome after iteration 6: [-0.14848826160159037, 0.1605586277159571, 4.000886824204821, 1.7395189794353993, 0.7229903591108688, 6.9992054390354985, 6.165385298814087, -0.3011014622703609, -0.46106702337517, 0.40055096223208464] \n",
            "Fitness: 627.0722179713613\n",
            "\n",
            "Best chromosome after iteration 7: [8.384047677262238, 4.950694461889569, 4.000886824204821, 1.7395189794353993, 0.7229903591108688, 6.9992054390354985, 6.165385298814087, -0.3011014622703609, -0.46106702337517, 0.40055096223208464] \n",
            "Fitness: 746.3096178262341\n",
            "\n",
            "Best chromosome after iteration 8: [8.384047677262238, 4.950694461889569, 4.000886824204821, 1.7395189794353993, 0.7229903591108688, 6.9992054390354985, 6.165385298814087, -0.3011014622703609, 2.222303216485877, 0.40055096223208464] \n",
            "Fitness: 788.8440568998691\n",
            "\n",
            "Best chromosome after iteration 9: [8.384047677262238, 4.950694461889569, 4.000886824204821, 1.7395189794353993, 0.7229903591108688, 6.9992054390354985, 6.165385298814087, -0.3011014622703609, 6.326360937231232, 0.40055096223208464] \n",
            "Fitness: 1104.601956998965\n",
            "\n",
            "Best chromosome after iteration 10: [8.384047677262238, 4.950694461889569, 4.000886824204821, 1.7395189794353993, 0.7229903591108688, 6.9992054390354985, 0.6405204610725246, -0.3011014622703609, 6.326360937231232, 0.40055096223208464] \n",
            "Fitness: 841.3899910465028\n"
          ],
          "name": "stdout"
        },
        {
          "output_type": "display_data",
          "data": {
            "image/png": "[encoded data removed]",
            "text/plain": [
              "<Figure size 432x288 with 1 Axes>"
            ]
          },
          "metadata": {
            "tags": [],
            "needs_background": "light"
          }
        }
      ]
    },
    {
      "cell_type": "code",
      "metadata": {
        "id": "sELAm8K8xIlo"
      },
      "source": [
        ""
      ],
      "execution_count": null,
      "outputs": []
    }
  ]
}